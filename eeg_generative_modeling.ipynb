{
  "nbformat": 4,
  "nbformat_minor": 0,
  "metadata": {
    "colab": {
      "name": "eeg-gans.ipynb",
      "provenance": []
    },
    "kernelspec": {
      "name": "python3",
      "display_name": "Python 3"
    },
    "language_info": {
      "name": "python"
    },
    "accelerator": "GPU"
  },
  "cells": [
    {
      "cell_type": "code",
      "metadata": {
        "id": "AjSQc1MUp1BT"
      },
      "source": [
        "import tensorflow as tf\n",
        "import numpy as np\n",
        "import pandas as pd\n",
        "import os\n",
        "from sklearn.preprocessing import StandardScaler\n",
        "from sklearn.model_selection import train_test_split"
      ],
      "execution_count": null,
      "outputs": []
    },
    {
      "cell_type": "code",
      "metadata": {
        "id": "Kq0YJ7NNp_RK"
      },
      "source": [
        "eeg_data_path = '/content/drive/MyDrive/Datasets/Epileptic Seizure Recognition Data Set.csv'\n",
        "\n",
        "eeg_df = pd.read_csv(eeg_data_path)\n",
        "\n",
        "eeg_df = eeg_df.drop(['ID'], axis = 1)\n",
        "\n",
        "class0 = [2, 3, 4, 5]\n",
        "class1 = [1]\n",
        "\n",
        "for index, row in eeg_df.iterrows():\n",
        "    if row['y'] in class0:\n",
        "      row['y'] = 0\n",
        "    elif row['y'] in class1:\n",
        "      row['y'] = 1\n",
        "\n",
        "positive_df = eeg_df.loc[eeg_df['y'] == 1]"
      ],
      "execution_count": null,
      "outputs": []
    },
    {
      "cell_type": "code",
      "metadata": {
        "id": "UzILRO5SkYn3"
      },
      "source": [
        "x_data = positive_df.drop('y', axis = 1)\n",
        "y_data = positive_df[['y']]"
      ],
      "execution_count": null,
      "outputs": []
    },
    {
      "cell_type": "code",
      "metadata": {
        "colab": {
          "base_uri": "https://localhost:8080/"
        },
        "id": "lG-067n5qQ5i",
        "outputId": "b2712664-796b-4335-b8ab-f0eecde08243"
      },
      "source": [
        "discriminator = tf.keras.models.Sequential([\n",
        "    tf.keras.layers.Input(shape=(178)),\n",
        "    tf.keras.layers.Flatten(),\n",
        "    tf.keras.layers.Dense(128, activation = 'selu'),\n",
        "    tf.keras.layers.Dense(1, activation='sigmoid')\n",
        "], name = \"SigXNet-Discriminator\")\n",
        "\n",
        "discriminator.compile(optimizer = tf.keras.optimizers.SGD(lr = 1e-3), loss = tf.keras.losses.binary_crossentropy, metrics = ['accuracy'])\n",
        "discriminator.summary()"
      ],
      "execution_count": null,
      "outputs": [
        {
          "output_type": "stream",
          "text": [
            "Model: \"SigXNet-Discriminator\"\n",
            "_________________________________________________________________\n",
            "Layer (type)                 Output Shape              Param #   \n",
            "=================================================================\n",
            "flatten_1 (Flatten)          (None, 178)               0         \n",
            "_________________________________________________________________\n",
            "dense_4 (Dense)              (None, 128)               22912     \n",
            "_________________________________________________________________\n",
            "dense_5 (Dense)              (None, 1)                 129       \n",
            "=================================================================\n",
            "Total params: 23,041\n",
            "Trainable params: 23,041\n",
            "Non-trainable params: 0\n",
            "_________________________________________________________________\n"
          ],
          "name": "stdout"
        }
      ]
    },
    {
      "cell_type": "code",
      "metadata": {
        "colab": {
          "base_uri": "https://localhost:8080/"
        },
        "id": "3IE62zq7r8-p",
        "outputId": "a22d2a2b-6696-4e4b-a563-4479a0331035"
      },
      "source": [
        "latent_dim = 100\n",
        "\n",
        "generator = tf.keras.models.Sequential([\n",
        "    tf.keras.Input(shape=(latent_dim)),\n",
        "    tf.keras.layers.Dense(128),\n",
        "    tf.keras.layers.Dense(178),\n",
        "], name = \"SigXNet-Generator\")\n",
        "\n",
        "generator.compile(optimizer = tf.keras.optimizers.SGD(lr = 1e-3), loss = tf.keras.losses.binary_crossentropy, metrics = ['accuracy'])\n",
        "generator.summary()"
      ],
      "execution_count": null,
      "outputs": [
        {
          "output_type": "stream",
          "text": [
            "Model: \"SigXNet-Generator\"\n",
            "_________________________________________________________________\n",
            "Layer (type)                 Output Shape              Param #   \n",
            "=================================================================\n",
            "dense_6 (Dense)              (None, 128)               12928     \n",
            "_________________________________________________________________\n",
            "dense_7 (Dense)              (None, 178)               22962     \n",
            "=================================================================\n",
            "Total params: 35,890\n",
            "Trainable params: 35,890\n",
            "Non-trainable params: 0\n",
            "_________________________________________________________________\n"
          ],
          "name": "stdout"
        }
      ]
    },
    {
      "cell_type": "code",
      "metadata": {
        "colab": {
          "base_uri": "https://localhost:8080/"
        },
        "id": "UQ8uAoY0ng_W",
        "outputId": "d8732729-9040-44b5-f917-92479198b152"
      },
      "source": [
        "def create_gan(discriminator, generator):\n",
        "    discriminator.trainable = False\n",
        "    gan_input = tf.keras.Input(shape=(100,))\n",
        "    x = generator(gan_input)\n",
        "    gan_output = discriminator(x)\n",
        "    gan = tf.keras.models.Model(inputs = gan_input, outputs = gan_output)\n",
        "    gan.compile(loss = tf.keras.losses.binary_crossentropy, optimizer = tf.keras.optimizers.SGD(lr = 1e-3))\n",
        "    return gan\n",
        "\n",
        "gan = create_gan(discriminator, generator)\n",
        "gan.summary()"
      ],
      "execution_count": null,
      "outputs": [
        {
          "output_type": "stream",
          "text": [
            "Model: \"model_1\"\n",
            "_________________________________________________________________\n",
            "Layer (type)                 Output Shape              Param #   \n",
            "=================================================================\n",
            "input_6 (InputLayer)         [(None, 100)]             0         \n",
            "_________________________________________________________________\n",
            "SigXNet-Generator (Sequentia (None, 178)               35890     \n",
            "_________________________________________________________________\n",
            "SigXNet-Discriminator (Seque (None, 1)                 23041     \n",
            "=================================================================\n",
            "Total params: 58,931\n",
            "Trainable params: 35,890\n",
            "Non-trainable params: 23,041\n",
            "_________________________________________________________________\n"
          ],
          "name": "stdout"
        }
      ]
    },
    {
      "cell_type": "code",
      "metadata": {
        "colab": {
          "base_uri": "https://localhost:8080/"
        },
        "id": "LbWJ_qjSn9_k",
        "outputId": "9faf6aef-b2f9-44f6-cb04-0bc7dcf97e0d"
      },
      "source": [
        "disc_loss = []\n",
        "gene_loss = []\n",
        "epochs = 5 \n",
        "batch_size = 128\n",
        "x_train = x_data.to_numpy()\n",
        "\n",
        "for e in range(epochs):\n",
        "    for _ in range(batch_size):\n",
        "        noise = np.random.normal(0, 1, [batch_size, 100])\n",
        "        generated_signal = generator.predict(noise)\n",
        "       \n",
        "        signal_batch = x_train[np.random.randint(low = 0, high = x_train.shape[0], size = batch_size)]\n",
        "        x = np.concatenate([signal_batch, generated_signal])\n",
        "        \n",
        "        y_disc = np.zeros(batch_size * 2) \n",
        "        y_disc[:batch_size] = 1 \n",
        "\n",
        "        discriminator.trainable = True\n",
        "        discriminator_loss = discriminator.train_on_batch(x, y_disc)\n",
        "\n",
        "        noise = np.random.normal(0, 1, [batch_size, 100])\n",
        "        y_gene = np.ones(batch_size)\n",
        "\n",
        "        discriminator.trainable = False\n",
        "        generator_loss = gan.train_on_batch(noise, y_gene)\n",
        "\n",
        "        disc_loss.append(discriminator_loss)\n",
        "        gene_loss.append(generator_loss)\n",
        "        \n",
        "    if (e % 2 == 0) or (e == epochs - 1):\n",
        "        print(\"Epochs: \", e)\n",
        "    if e == epochs-1:\n",
        "        print(\"Training Complete\")"
      ],
      "execution_count": null,
      "outputs": [
        {
          "output_type": "stream",
          "text": [
            "Epochs:  0\n",
            "Epochs:  2\n",
            "Epochs:  4\n",
            "Training Complete\n"
          ],
          "name": "stdout"
        }
      ]
    },
    {
      "cell_type": "code",
      "metadata": {
        "id": "jnVPgWXisizd"
      },
      "source": [
        "generator.save(\"generator.h5\") # you can donwload this model from output part of this kernel.\n",
        "discriminator.save(\"discriminator.h5\") # you can donwload this model from output part of this kernel."
      ],
      "execution_count": null,
      "outputs": []
    },
    {
      "cell_type": "code",
      "metadata": {
        "colab": {
          "base_uri": "https://localhost:8080/",
          "height": 621
        },
        "id": "IN89uCD1s3PC",
        "outputId": "8a777c45-de85-4f3b-b551-ac1e74df6329"
      },
      "source": [
        "import matplotlib.pyplot as plt\n",
        "\n",
        "index = 0\n",
        "D_loss2 = []\n",
        "G_loss2 = []\n",
        "\n",
        "for i in range(1,epochs+1):\n",
        "    D_loss2.append(disc_loss[index])\n",
        "    G_loss2.append(gene_loss[index])\n",
        "    index += batch_size\n",
        "\n",
        "fig, axs = plt.subplots(2, 1, figsize = (12,10))\n",
        "\n",
        "axs[0].plot(D_loss2, label = \"Discriminator Loss\")\n",
        "axs[1].plot(G_loss2, label = \"Generator Loss\", color = \"orange\")\n",
        "\n",
        "axs[0].set_xlabel(\"Epochs\")\n",
        "axs[1].set_xlabel(\"Epochs\")\n",
        "\n",
        "axs[0].set_ylabel(\"Loss\")\n",
        "axs[1].set_ylabel(\"Loss\")\n",
        "\n",
        "axs[0].set_title(\"Discriminator Loss\")\n",
        "axs[1].set_title(\"Generator Loss\")\n",
        "plt.show()"
      ],
      "execution_count": null,
      "outputs": [
        {
          "output_type": "display_data",
          "data": {
            "image/png": "[encoded data removed]",
            "text/plain": [
              "<Figure size 864x720 with 2 Axes>"
            ]
          },
          "metadata": {
            "tags": [],
            "needs_background": "light"
          }
        }
      ]
    },
    {
      "cell_type": "code",
      "metadata": {
        "id": "RcdRqB4TtROo"
      },
      "source": [
        "samples = 5\n",
        "noise = np.random.normal(0, 1, (samples,100))\n",
        "audios = generator.predict(noise)"
      ],
      "execution_count": null,
      "outputs": []
    },
    {
      "cell_type": "code",
      "metadata": {
        "colab": {
          "base_uri": "https://localhost:8080/"
        },
        "id": "rer_E768tciE",
        "outputId": "c2e0534f-3518-42f0-b871-d039c49b4447"
      },
      "source": [
        "audios.shape"
      ],
      "execution_count": null,
      "outputs": [
        {
          "output_type": "execute_result",
          "data": {
            "text/plain": [
              "(5, 178)"
            ]
          },
          "metadata": {
            "tags": []
          },
          "execution_count": 23
        }
      ]
    },
    {
      "cell_type": "code",
      "metadata": {
        "colab": {
          "base_uri": "https://localhost:8080/"
        },
        "id": "T2pBNI-Sthxj",
        "outputId": "79024a04-2823-4bd0-f013-55d4481c87a3"
      },
      "source": [
        "discriminator.predict(audios)"
      ],
      "execution_count": null,
      "outputs": [
        {
          "output_type": "execute_result",
          "data": {
            "text/plain": [
              "array([[0.693274  ],\n",
              "       [0.64137805],\n",
              "       [0.4930314 ],\n",
              "       [0.6831992 ],\n",
              "       [0.3690106 ]], dtype=float32)"
            ]
          },
          "metadata": {
            "tags": []
          },
          "execution_count": 24
        }
      ]
    },
    {
      "cell_type": "code",
      "metadata": {
        "colab": {
          "base_uri": "https://localhost:8080/",
          "height": 282
        },
        "id": "VU4pRwjcuHvA",
        "outputId": "e169de39-803b-46f2-8b24-67e7f2cb6d35"
      },
      "source": [
        "plt.plot(audios[4])"
      ],
      "execution_count": null,
      "outputs": [
        {
          "output_type": "execute_result",
          "data": {
            "text/plain": [
              "[<matplotlib.lines.Line2D at 0x7fa992b98750>]"
            ]
          },
          "metadata": {
            "tags": []
          },
          "execution_count": 27
        },
        {
          "output_type": "display_data",
          "data": {
            "image/png": "[encoded data removed]",
            "text/plain": [
              "<Figure size 432x288 with 1 Axes>"
            ]
          },
          "metadata": {
            "tags": [],
            "needs_background": "light"
          }
        }
      ]
    },
    {
      "cell_type": "code",
      "metadata": {
        "id": "DJ4L3RmrtFRW"
      },
      "source": [
        "class GAN(tf.keras.Model):\n",
        "    def __init__(self, discriminator, generator, latent_dim):\n",
        "        super(GAN, self).__init__()\n",
        "        self.discriminator = discriminator\n",
        "        self.generator = generator\n",
        "        self.latent_dim = latent_dim\n",
        "\n",
        "    def compile(self, d_optimizer, g_optimizer, loss_fn):\n",
        "        super(GAN, self).compile()\n",
        "        self.d_optimizer = d_optimizer\n",
        "        self.g_optimizer = g_optimizer\n",
        "        self.loss_fn = loss_fn\n",
        "        self.d_loss_metric = tf.keras.metrics.Mean(name=\"d_loss\")\n",
        "        self.g_loss_metric = tf.keras.metrics.Mean(name=\"g_loss\")\n",
        "\n",
        "    @property\n",
        "    def metrics(self):\n",
        "        return [self.d_loss_metric, self.g_loss_metric]\n",
        "\n",
        "    def train_step(self, real_images):\n",
        "        # Sample random points in the latent space\n",
        "        batch_size = tf.shape(real_images)[0]\n",
        "        random_latent_vectors = tf.random.normal(shape=(batch_size, self.latent_dim))\n",
        "\n",
        "        # Decode them to fake images\n",
        "        generated_images = self.generator(random_latent_vectors)\n",
        "\n",
        "        # Combine them with real images\n",
        "        combined_images = tf.concat([generated_images, real_images], axis=0)\n",
        "\n",
        "        # Assemble labels discriminating real from fake images\n",
        "        labels = tf.concat(\n",
        "            [tf.ones((batch_size, 1)), tf.zeros((batch_size, 1))], axis=0\n",
        "        )\n",
        "        # Add random noise to the labels - important trick!\n",
        "        labels += 0.05 * tf.random.uniform(tf.shape(labels))\n",
        "\n",
        "        # Train the discriminator\n",
        "        with tf.GradientTape() as tape:\n",
        "            predictions = self.discriminator(combined_images)\n",
        "            d_loss = self.loss_fn(labels, predictions)\n",
        "        grads = tape.gradient(d_loss, self.discriminator.trainable_weights)\n",
        "        self.d_optimizer.apply_gradients(\n",
        "            zip(grads, self.discriminator.trainable_weights)\n",
        "        )\n",
        "\n",
        "        # Sample random points in the latent space\n",
        "        random_latent_vectors = tf.random.normal(shape=(batch_size, self.latent_dim))\n",
        "\n",
        "        # Assemble labels that say \"all real images\"\n",
        "        misleading_labels = tf.zeros((batch_size, 1))\n",
        "\n",
        "        # Train the generator (note that we should *not* update the weights\n",
        "        # of the discriminator)!\n",
        "        with tf.GradientTape() as tape:\n",
        "            predictions = self.discriminator(self.generator(random_latent_vectors))\n",
        "            g_loss = self.loss_fn(misleading_labels, predictions)\n",
        "        grads = tape.gradient(g_loss, self.generator.trainable_weights)\n",
        "        self.g_optimizer.apply_gradients(zip(grads, self.generator.trainable_weights))\n",
        "\n",
        "        # Update metrics\n",
        "        self.d_loss_metric.update_state(d_loss)\n",
        "        self.g_loss_metric.update_state(g_loss)\n",
        "        return {\n",
        "            \"d_loss\": self.d_loss_metric.result(),\n",
        "            \"g_loss\": self.g_loss_metric.result(),\n",
        "        }"
      ],
      "execution_count": null,
      "outputs": []
    },
    {
      "cell_type": "code",
      "metadata": {
        "id": "NTF4y3R7uzDh"
      },
      "source": [
        "class GANMonitor(tf.keras.callbacks.Callback):\n",
        "    def __init__(self, num_img=3, latent_dim=128):\n",
        "        self.num_img = num_img\n",
        "        self.latent_dim = latent_dim\n",
        "\n",
        "    def on_epoch_end(self, epoch, logs=None):\n",
        "        random_latent_vectors = tf.random.normal(shape=(self.num_img, self.latent_dim))\n",
        "        generated_images = self.model.generator(random_latent_vectors)\n",
        "        generated_images *= 255\n",
        "        generated_images.numpy()\n",
        "        for i in range(self.num_img):\n",
        "            img = tf.keras.preprocessing.image.array_to_img(generated_images[i])\n",
        "            img.save(\"generated_img_%03d_%d.png\" % (epoch, i))"
      ],
      "execution_count": null,
      "outputs": []
    },
    {
      "cell_type": "code",
      "metadata": {
        "id": "aepWnX1Tu7Ql"
      },
      "source": [
        "epochs = 10  # In practice, use ~100 epochs\n",
        "\n",
        "gan = GAN(discriminator=discriminator, generator=generator, latent_dim=latent_dim)\n",
        "gan.compile(\n",
        "    d_optimizer=tf.keras.optimizers.Adam(learning_rate=0.0001),\n",
        "    g_optimizer=tf.keras.optimizers.Adam(learning_rate=0.0001),\n",
        "    loss_fn=tf.keras.losses.BinaryCrossentropy(),\n",
        ")\n",
        "\n",
        "gan.fit(\n",
        "    x_data, y_data, epochs=epochs, callbacks=[GANMonitor(num_img=10, latent_dim=latent_dim)]\n",
        ")"
      ],
      "execution_count": null,
      "outputs": []
    }
  ]
}